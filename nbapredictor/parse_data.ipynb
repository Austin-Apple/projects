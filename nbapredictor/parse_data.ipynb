{
 "cells": [
  {
   "cell_type": "code",
   "execution_count": 344,
   "id": "45e60714-aedd-4035-a8a4-3bec90448bf2",
   "metadata": {},
   "outputs": [],
   "source": [
    "import os \n",
    "from io import StringIO\n",
    "import pandas as pd\n",
    "from bs4 import BeautifulSoup"
   ]
  },
  {
   "cell_type": "code",
   "execution_count": 345,
   "id": "35a41c1b-da51-4d62-96bb-4def0f5b85ed",
   "metadata": {},
   "outputs": [],
   "source": [
    "SCORE_DIR = \"data2/scores\""
   ]
  },
  {
   "cell_type": "code",
   "execution_count": 346,
   "id": "315f5205-202b-4345-a4f9-44f0a1151c6f",
   "metadata": {},
   "outputs": [],
   "source": [
    "box_scores = os.listdir(SCORE_DIR)"
   ]
  },
  {
   "cell_type": "code",
   "execution_count": 347,
   "id": "adac12b7-df95-44e6-87fb-3ec668a7b708",
   "metadata": {},
   "outputs": [],
   "source": [
    "box_scores = [os.path.join(SCORE_DIR, f) for f in box_scores if f.endswith(\".html\")]"
   ]
  },
  {
   "cell_type": "code",
   "execution_count": 348,
   "id": "7288b979-c396-443b-bbca-ef808eb0078e",
   "metadata": {},
   "outputs": [],
   "source": [
    "def parse_html(box_score):\n",
    "    with open(box_score) as f:\n",
    "        html = f.read()\n",
    "\n",
    "    soup = BeautifulSoup(html)\n",
    "    [s.decompose() for s in soup.select(\"tr.over_header\")]\n",
    "    [s.decompose() for s in soup.select(\"tr.thead\")] #cleans up the data we can process further\n",
    "    return soup"
   ]
  },
  {
   "cell_type": "code",
   "execution_count": 349,
   "id": "fd77453a-ff42-4c34-aac2-64026e19961c",
   "metadata": {},
   "outputs": [],
   "source": [
    "def read_line_score(soup):\n",
    "    line_score = pd.read_html(StringIO(str(soup)), attrs = {'id': 'line_score'})[0]\n",
    "    cols = list(line_score.columns)\n",
    "    cols[0] = \"team\"\n",
    "    cols[-1] = \"total\"\n",
    "    line_score.columns = cols\n",
    "    line_score = line_score[[\"team\",\"total\"]]\n",
    "    return line_score"
   ]
  },
  {
   "cell_type": "code",
   "execution_count": 350,
   "id": "47f360c4-33b8-419f-a9f1-98b47f2e294d",
   "metadata": {
    "editable": true,
    "slideshow": {
     "slide_type": ""
    },
    "tags": []
   },
   "outputs": [],
   "source": [
    "def read_stats(soup,team,stat):\n",
    "    df = pd.read_html(StringIO(str(soup)), attrs = {\"id\":f\"box-{team}-game-{stat}\"}, index_col=0)[0]\n",
    "    df = df.apply(pd.to_numeric, errors=\"coerce\")\n",
    "    return df"
   ]
  },
  {
   "cell_type": "code",
   "execution_count": 351,
   "id": "65d1bfad-190b-42d1-9137-0c8aea7cb9c9",
   "metadata": {},
   "outputs": [],
   "source": [
    "def read_season_info(soup):\n",
    "    nav = soup.select(\"#bottom_nav_container\")[0]\n",
    "    hrefs = [a[\"href\"] for a in nav.find_all(\"a\")]\n",
    "    season = os.path.basename(hrefs[1]).split(\"_\")[0]\n",
    "    return season"
   ]
  },
  {
   "cell_type": "code",
   "execution_count": 352,
   "id": "48fc1ec5-ea5f-4bea-b19c-ddba063c3577",
   "metadata": {},
   "outputs": [],
   "source": [
    "base_cols = None\n",
    "games = []\n",
    "for box_score in box_scores:\n",
    "    soup = parse_html(box_score)\n",
    "    line_score = read_line_score(soup)\n",
    "    teams = list(line_score[\"team\"])\n",
    "    \n",
    "    summaries = []\n",
    "    for team in teams:\n",
    "        basic = read_stats(soup,team,\"basic\")\n",
    "        advanced = read_stats(soup,team,\"advanced\")\n",
    "    \n",
    "        totals = pd.concat([basic.iloc[-1,:],advanced.iloc[-1,:]]) #iloc indexes a dataframe by position\n",
    "        totals.index = totals.index.str.lower()\n",
    "        \n",
    "        maxes = pd.concat([basic.iloc[:-1,:].max(), advanced.iloc[:-1,:].max()])\n",
    "        maxes.index = maxes.index.str.lower() + \"_max\"\n",
    "    \n",
    "        summary = pd.concat([totals,maxes])\n",
    "    \n",
    "        if base_cols is None:\n",
    "            base_cols = list(summary.index.drop_duplicates(keep = \"first\")) #finds all values in box scores in the first loop amnd removes duplicates\n",
    "            base_cols = [b for b in base_cols if \"bpm\" not in b]\n",
    "    \n",
    "        summary = summary[base_cols]\n",
    "    \n",
    "        summaries.append(summary)\n",
    "    summary = pd.concat(summaries,axis=1).T #.T just rotates the table\n",
    "    \n",
    "    game = pd.concat([summary,line_score],axis=1)\n",
    "    \n",
    "    game[\"home\"] = [0,1]\n",
    "    game_opp = game.iloc[::-1].reset_index() #opponent data frame\n",
    "    game_opp.columns +=\"_opp\"\n",
    "    \n",
    "    full_game = pd.concat([game,game_opp],axis=1)\n",
    "    \n",
    "    full_game[\"season\"] = read_season_info(soup)\n",
    "    \n",
    "    full_game[\"date\"] = os.path.basename(box_score)[:8]\n",
    "    full_game[\"date\"] = pd.to_datetime(full_game[\"date\"], format=\"%Y%m%d\")\n",
    "    full_game[\"won\"] = full_game[\"total\"] > full_game[\"total_opp\"]\n",
    "    games.append(full_game)\n",
    "\n",
    "    if len(games)%100 == 0:\n",
    "        print(f\"{len(games)}/{len(box_scores)}\")"
   ]
  },
  {
   "cell_type": "code",
   "execution_count": 353,
   "id": "d39a77af-0e03-4efc-9ba0-beba8f8651f3",
   "metadata": {},
   "outputs": [],
   "source": [
    "games_df = pd.concat(games, ignore_index = True)\n",
    "games_df.to_csv(\"nba_games.csv\")"
   ]
  }
 ],
 "metadata": {
  "kernelspec": {
   "display_name": "Python 3 (ipykernel)",
   "language": "python",
   "name": "python3"
  },
  "language_info": {
   "codemirror_mode": {
    "name": "ipython",
    "version": 3
   },
   "file_extension": ".py",
   "mimetype": "text/x-python",
   "name": "python",
   "nbconvert_exporter": "python",
   "pygments_lexer": "ipython3",
   "version": "3.12.3"
  }
 },
 "nbformat": 4,
 "nbformat_minor": 5
}
