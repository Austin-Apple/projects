{
 "cells": [
  {
   "cell_type": "code",
   "execution_count": null,
   "id": "3e7a3339-3212-4354-8b7a-98c7b67722dd",
   "metadata": {},
   "outputs": [],
   "source": [
    "import cv2\n",
    "import cvlib as cvl\n",
    "from cvlib.object_detection import draw_bbox\n",
    "from gtts import gTTS\n",
    "from playsound import playsound"
   ]
  },
  {
   "cell_type": "code",
   "execution_count": null,
   "id": "5c4e43f1-3ef5-4ba5-ac1f-8fc09c176067",
   "metadata": {},
   "outputs": [],
   "source": [
    "def speech(text):\n",
    "    print(text)\n",
    "    language = \"en\"\n",
    "    output = gTTS(text=text, lang=language, slow=False)\n",
    "\n",
    "    output.save(\"./sounds/output.mp3\")\n",
    "    playsound(\"./sounds/output.mp3\")"
   ]
  },
  {
   "cell_type": "code",
   "execution_count": null,
   "id": "216a915d-4d90-4d0b-bf61-ee4996baf744",
   "metadata": {},
   "outputs": [],
   "source": [
    "video = cv2.VideoCapture(0)\n",
    "labels = []    "
   ]
  },
  {
   "cell_type": "code",
   "execution_count": null,
   "id": "a4e23925-06f7-4a49-88bd-3d579a441474",
   "metadata": {},
   "outputs": [],
   "source": [
    "while True:\n",
    "    ret, frame = video.read()\n",
    "    # Bounding box.\n",
    "    # the cvlib library has learned some basic objects using object learning\n",
    "    # usually it takes around 800 images for it to learn what a phone is.\n",
    "    if not ret:\n",
    "        print(\"Failed to grab frame\")\n",
    "        break\n",
    "    \n",
    "    bbox, label, conf = cvl.detect_common_objects(frame)\n",
    "\n",
    "    output_image = draw_bbox(frame, bbox, label, conf)\n",
    "\n",
    "    cv2.imshow(\"Detection\", output_image)\n",
    "\n",
    "    for item in label:\n",
    "        if item in labels:\n",
    "            pass\n",
    "        else:\n",
    "            labels.append(item)\n",
    "\n",
    "    if cv2.waitKey(1) & 0xFF == ord(\"q\"):\n",
    "        break\n",
    "\n",
    "cv2.destroyAllWindows()\n",
    "video.release()\n",
    "\n",
    "i = 0\n",
    "new_sentence = []\n",
    "for label in labels:\n",
    "    if i == 0:\n",
    "        new_sentence.append(f\"I found a {label}, and, \")\n",
    "    else:\n",
    "        new_sentence.append(f\"a {label},\")\n",
    "\n",
    "    i += 1"
   ]
  },
  {
   "cell_type": "code",
   "execution_count": null,
   "id": "f60c3dbc-5781-4a10-86a3-e0ba85b8ca8c",
   "metadata": {},
   "outputs": [],
   "source": [
    "#speech(\" \".join(new_sentence))\n",
    "#speech(\"Here are the food facts i found for these items:\")"
   ]
  },
  {
   "cell_type": "code",
   "execution_count": null,
   "id": "e4d85697-1f7f-4692-9eab-37500f785e55",
   "metadata": {},
   "outputs": [],
   "source": [
    "for label in labels:\n",
    "    try:\n",
    "        print(f\"\\n\\t{label.title()}\")\n",
    "        food_facts(label)\n",
    "\n",
    "    except:\n",
    "        print(\"No food facts for this item\")"
   ]
  }
 ],
 "metadata": {
  "kernelspec": {
   "display_name": "Python 3 (ipykernel)",
   "language": "python",
   "name": "python3"
  },
  "language_info": {
   "codemirror_mode": {
    "name": "ipython",
    "version": 3
   },
   "file_extension": ".py",
   "mimetype": "text/x-python",
   "name": "python",
   "nbconvert_exporter": "python",
   "pygments_lexer": "ipython3",
   "version": "3.12.3"
  }
 },
 "nbformat": 4,
 "nbformat_minor": 5
}
